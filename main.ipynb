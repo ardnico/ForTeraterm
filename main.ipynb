{
 "cells": [
  {
   "cell_type": "code",
   "execution_count": 1,
   "metadata": {},
   "outputs": [
    {
     "ename": "",
     "evalue": "",
     "output_type": "error",
     "traceback": [
      "\u001b[1;31mThe Kernel crashed while executing code in the current cell or a previous cell. \n",
      "\u001b[1;31mPlease review the code in the cell(s) to identify a possible cause of the failure. \n",
      "\u001b[1;31mClick <a href='https://aka.ms/vscodeJupyterKernelCrash'>here</a> for more info. \n",
      "\u001b[1;31mView Jupyter <a href='command:jupyter.viewOutput'>log</a> for further details."
     ]
    }
   ],
   "source": [
    "from ForTeraterm.main_menu import Mainmenu\n",
    "\n",
    "mm = Mainmenu()\n"
   ]
  },
  {
   "cell_type": "code",
   "execution_count": 2,
   "metadata": {},
   "outputs": [
    {
     "name": "stdout",
     "output_type": "stream",
     "text": [
      "Collecting tkinterhtml\n",
      "  Using cached tkinterhtml-0.7.zip (930 kB)\n",
      "  Installing build dependencies: started\n",
      "  Installing build dependencies: finished with status 'done'\n",
      "  Getting requirements to build wheel: started\n",
      "  Getting requirements to build wheel: finished with status 'done'\n",
      "  Preparing metadata (pyproject.toml): started\n",
      "  Preparing metadata (pyproject.toml): finished with status 'done'\n",
      "Building wheels for collected packages: tkinterhtml\n",
      "  Building wheel for tkinterhtml (pyproject.toml): started\n",
      "  Building wheel for tkinterhtml (pyproject.toml): finished with status 'done'\n",
      "  Created wheel for tkinterhtml: filename=tkinterhtml-0.7-py3-none-any.whl size=928083 sha256=9c70e6ec4a0230ce73daec7a5ebc90dc8dc3f04ae50f352dbafb1442464c112b\n",
      "  Stored in directory: c:\\users\\pc_user\\appdata\\local\\pip\\cache\\wheels\\6c\\83\\cb\\51bf3b89f87e27a85cc472ae17609adcdf4fe27c35b6a73494\n",
      "Successfully built tkinterhtml\n",
      "Installing collected packages: tkinterhtml\n",
      "Successfully installed tkinterhtml-0.7\n"
     ]
    },
    {
     "name": "stderr",
     "output_type": "stream",
     "text": [
      "\n",
      "[notice] A new release of pip is available: 23.3.2 -> 24.0\n",
      "[notice] To update, run: C:\\Users\\PC_User\\AppData\\Local\\Microsoft\\WindowsApps\\PythonSoftwareFoundation.Python.3.9_qbz5n2kfra8p0\\python.exe -m pip install --upgrade pip\n"
     ]
    }
   ],
   "source": [
    "!pip install tkinterhtml\n"
   ]
  },
  {
   "cell_type": "code",
   "execution_count": null,
   "metadata": {},
   "outputs": [],
   "source": []
  },
  {
   "cell_type": "code",
   "execution_count": 2,
   "metadata": {},
   "outputs": [
    {
     "data": {
      "text/plain": [
       "<customtkinter.windows.widgets.image.ctk_image.CTkImage at 0x168b92ba340>"
      ]
     },
     "execution_count": 2,
     "metadata": {},
     "output_type": "execute_result"
    }
   ],
   "source": [
    "from ForTeraterm.WindowSettings.image import imginst\n"
   ]
  },
  {
   "cell_type": "code",
   "execution_count": null,
   "metadata": {},
   "outputs": [],
   "source": []
  },
  {
   "cell_type": "code",
   "execution_count": 6,
   "metadata": {},
   "outputs": [],
   "source": [
    "from glob import glob\n",
    "import os\n",
    "target = glob(os.path.join(os.getcwd(),\"img\",\"*.png\"))\n",
    "target = [os.path.basename(t) for t in target]\n",
    "img_py_file = os.path.join(os.getcwd(),\"ForTeraterm\",\"WindowSettings\",\"image.py\")\n",
    "base_txt = \"\"\"\n",
    "import customtkinter\n",
    "import os\n",
    "from PIL import Image\n",
    "\n",
    "class ImageInst:\n",
    "    def __init__(self) -> None:\n",
    "        # load images with light and dark mode image\n",
    "        image_path = os.path.join(os.getcwd(), \"img\")\"\"\"\n",
    "\n",
    "with open(img_py_file,\"w\",encoding=\"utf-8\") as f:\n",
    "    f.write(base_txt)\n",
    "    for t in target:\n",
    "        if t.find(\"image_\")==0:\n",
    "            if t.find(\"_light.\")>-1:\n",
    "                continue\n",
    "            prefix_num = len( t.split(\"_\")[0] ) + 1\n",
    "            sufix_num = -( len( t.split(\"_\")[-1] ) + 1 )\n",
    "            key = t[prefix_num:][:sufix_num]\n",
    "            tmp_txt = f\"\"\"\n",
    "        self.image_{key} = customtkinter.CTkImage(light_image=Image.open(os.path.join(image_path, \"image_{key}_dark.png\")),\n",
    "            dark_image=Image.open(os.path.join(image_path, \"image_{key}_light.png\")), size=(20, 20))\"\"\"\n",
    "            f.write(tmp_txt)\n",
    "        else:\n",
    "            sufix_num = -( len( t.split(\".\")[-1] ) + 1 )\n",
    "            key = t[:sufix_num]\n",
    "            tmp_txt = f\"\"\"\n",
    "        self.image_icon_{key} = customtkinter.CTkImage(Image.open(os.path.join(image_path, \"{key}.png\")), size=(20, 20))\"\"\"\n",
    "            f.write(tmp_txt)\n",
    "    tmp_txt = \"\"\"\n",
    "imginst = ImageInst()\n",
    "\"\"\"\n",
    "    f.write(tmp_txt)\n",
    "\n"
   ]
  },
  {
   "cell_type": "code",
   "execution_count": 10,
   "metadata": {},
   "outputs": [
    {
     "data": {
      "text/plain": [
       "'c:\\\\develop\\\\python\\\\for_teraterm\\\\ForTeraterm\\\\WindowSettings\\\\image.py'"
      ]
     },
     "execution_count": 10,
     "metadata": {},
     "output_type": "execute_result"
    }
   ],
   "source": [
    "img_py_file"
   ]
  },
  {
   "cell_type": "code",
   "execution_count": null,
   "metadata": {},
   "outputs": [],
   "source": []
  },
  {
   "cell_type": "code",
   "execution_count": null,
   "metadata": {},
   "outputs": [],
   "source": []
  },
  {
   "cell_type": "code",
   "execution_count": null,
   "metadata": {},
   "outputs": [],
   "source": []
  },
  {
   "cell_type": "code",
   "execution_count": null,
   "metadata": {},
   "outputs": [],
   "source": []
  },
  {
   "cell_type": "code",
   "execution_count": null,
   "metadata": {},
   "outputs": [],
   "source": []
  },
  {
   "cell_type": "code",
   "execution_count": 3,
   "metadata": {},
   "outputs": [],
   "source": [
    "sfm_inst.set_serverdata(\n",
    "        hostname            = \"hostname    \"\n",
    "        ,user               = \"user        \"\n",
    "        ,psw                = \"psw         \"\n",
    "        ,hostname2          = \"hostname2   \"\n",
    "        ,user2              = \"user2       \"\n",
    "        ,psw2               = \"psw2        \"\n",
    "        # ,method             = \"method      \"\n",
    "        # ,optionsline        = \"optionsline \"\n",
    "        # ,teratermini        = \"teratermini \"\n",
    "        # ,filetransdir       = \"filetransdir\"\n",
    "        # ,kanjicoder         = \"kanjicoder  \"\n",
    "        # ,kanjicodet         = \"kanjicodet  \"\n",
    "        # ,logfile            = \"logfile     \"\n",
    "        # ,language           = \"language    \"\n",
    "        # ,telnet             = False\n",
    "        # ,timeout            = 3\n",
    "        # ,windowhidden       = False\n",
    "        # ,windowtitle        = \"windowtitle \"\n",
    "        # ,windowx            = \"windowx     \"\n",
    "        # ,windowy            = \"windowy     \"\n",
    "        # ,autowinclose       = \"autowinclose\"\n",
    "        )\n",
    "\n",
    "sfm_inst.save_serverdata()"
   ]
  },
  {
   "cell_type": "code",
   "execution_count": null,
   "metadata": {},
   "outputs": [],
   "source": []
  },
  {
   "cell_type": "code",
   "execution_count": null,
   "metadata": {},
   "outputs": [],
   "source": []
  },
  {
   "cell_type": "code",
   "execution_count": null,
   "metadata": {},
   "outputs": [],
   "source": []
  },
  {
   "cell_type": "code",
   "execution_count": null,
   "metadata": {},
   "outputs": [],
   "source": []
  },
  {
   "cell_type": "code",
   "execution_count": 4,
   "metadata": {},
   "outputs": [],
   "source": [
    "import json\n",
    "with open('test.json', 'w') as f:\n",
    "    d = sfm_inst.get_json()\n",
    "    json.dump(d, f, indent=2)\n",
    "    "
   ]
  },
  {
   "cell_type": "code",
   "execution_count": 5,
   "metadata": {},
   "outputs": [
    {
     "data": {
      "text/plain": [
       "ServerDatas(primaryno={'primaryno': 0, 'hostname': 'hostname    ', 'user': '>&)-)xx-)&)-)x>-)&>x-)&>x-)&>x-)&>x-)&>x-)&>x-)&>x-)&>x', 'psw': ')x&-)xx->&x-)&>x-)&>x-)&>x-)&>x-)&>x-)&>x-)&>x-)&>x-)&>x', 'hostname2': None, 'user2': None, 'psw2': None, 'method': 'passwd', 'optionsline': None, 'teratermini': None, 'filetransdir': None, 'kanjicoder': None, 'kanjicodet': None, 'logfile': None, 'language': 'U', 'telnet': False, 'timeout': None, 'windowhidden': False, 'windowtitle': None, 'windowx': None, 'windowy': None, 'autowinclose': False}, hostname=None, user=None, psw=None, hostname2=None, user2=None, psw2=None, method='passwd', optionsline=None, teratermini=None, filetransdir=None, kanjicoder=None, kanjicodet=None, logfile=None, language='U', telnet=False, timeout=None, windowhidden=False, windowtitle=None, windowx=None, windowy=None, autowinclose=False)"
      ]
     },
     "execution_count": 5,
     "metadata": {},
     "output_type": "execute_result"
    }
   ],
   "source": [
    "from ForTeraterm.ServerData.serverdata import ServerDatas\n",
    "\n",
    "holidays_file = open('test.json', 'r')\n",
    "sample = json.load(holidays_file, object_hook=ServerDatas)\n",
    "sample"
   ]
  },
  {
   "cell_type": "code",
   "execution_count": 9,
   "metadata": {},
   "outputs": [
    {
     "data": {
      "text/plain": [
       "ServerDatas(primaryno=2, hostname=None, user=None, psw=None, hostname2=None, user2=None, psw2=None, method='passwd', optionsline=None, teratermini=None, filetransdir=None, kanjicoder=None, kanjicodet=None, logfile=None, language='U', telnet=False, timeout=None, windowhidden=False, windowtitle=None, windowx=None, windowy=None, autowinclose=False)"
      ]
     },
     "execution_count": 9,
     "metadata": {},
     "output_type": "execute_result"
    }
   ],
   "source": [
    "import dataclasses\n",
    "tmp = dataclasses.replace(sample)\n",
    "tmp"
   ]
  },
  {
   "cell_type": "code",
   "execution_count": 10,
   "metadata": {},
   "outputs": [
    {
     "data": {
      "text/plain": [
       "ServerDatas(primaryno=2, hostname=None, user=None, psw=None, hostname2=None, user2=None, psw2=None, method='passwd', optionsline=None, teratermini=None, filetransdir=None, kanjicoder=None, kanjicodet=None, logfile=None, language='U', telnet=False, timeout=None, windowhidden=False, windowtitle=None, windowx=None, windowy=None, autowinclose=False)"
      ]
     },
     "execution_count": 10,
     "metadata": {},
     "output_type": "execute_result"
    }
   ],
   "source": [
    "tmp.primaryno = 0\n",
    "sample"
   ]
  },
  {
   "cell_type": "code",
   "execution_count": 11,
   "metadata": {},
   "outputs": [
    {
     "data": {
      "text/plain": [
       "ServerDatas(primaryno=0, hostname=None, user=None, psw=None, hostname2=None, user2=None, psw2=None, method='passwd', optionsline=None, teratermini=None, filetransdir=None, kanjicoder=None, kanjicodet=None, logfile=None, language='U', telnet=False, timeout=None, windowhidden=False, windowtitle=None, windowx=None, windowy=None, autowinclose=False)"
      ]
     },
     "execution_count": 11,
     "metadata": {},
     "output_type": "execute_result"
    }
   ],
   "source": [
    "tmp"
   ]
  },
  {
   "cell_type": "code",
   "execution_count": null,
   "metadata": {},
   "outputs": [],
   "source": []
  },
  {
   "cell_type": "code",
   "execution_count": 3,
   "metadata": {},
   "outputs": [],
   "source": [
    "# import sqlite3\n",
    "# from dataclasses import dataclass\n",
    "\n",
    "# @dataclass\n",
    "# class TalotClass:\n",
    "#     primary_number      : int\n",
    "#     arcana              : bool\n",
    "#     symbol              : str\n",
    "#     name                : str\n",
    "#     mean                : str\n",
    "\n",
    "\n",
    "# conn = sqlite3.connect('data\\\\talot_data.db')\n",
    "# c = conn.cursor()\n",
    "\n",
    "# create_sql = '''CREATE TABLE IF NOT EXISTS talotdata (\n",
    "# primary_number INTEGER PRIMARY KEY,\n",
    "# arcana BOOL NOT NULL,\n",
    "# symbol TEXT NOT NULL,\n",
    "# name TEXT NOT NULL,\n",
    "# mean TEXT NOT NULL\n",
    "# )'''\n",
    "\n",
    "# c.execute(create_sql)\n",
    "# conn.commit()\n",
    "\n",
    "# def insert_talot_data(c,conn,data:TalotClass):\n",
    "#     c.execute('INSERT INTO talotdata VALUES (?, ?, ?, ?, ?)',\n",
    "#         (data.primary_number,data.arcana,data.symbol,data.name,data.mean))\n",
    "#     conn.commit()\n",
    "\n",
    "# for i,t in enumerate(talot):\n",
    "#     data = TalotClass(\n",
    "#         i,\n",
    "#         t[0],\n",
    "#         t[1],\n",
    "#         t[2],\n",
    "#         t[3]\n",
    "#     )\n",
    "#     insert_talot_data(c,conn,data)\n",
    "\n",
    "\n",
    "# # 接続を閉じる\n",
    "# conn.close()\n"
   ]
  },
  {
   "cell_type": "code",
   "execution_count": null,
   "metadata": {},
   "outputs": [],
   "source": []
  }
 ],
 "metadata": {
  "kernelspec": {
   "display_name": "Python 3",
   "language": "python",
   "name": "python3"
  },
  "language_info": {
   "codemirror_mode": {
    "name": "ipython",
    "version": 3
   },
   "file_extension": ".py",
   "mimetype": "text/x-python",
   "name": "python",
   "nbconvert_exporter": "python",
   "pygments_lexer": "ipython3",
   "version": "3.9.13"
  }
 },
 "nbformat": 4,
 "nbformat_minor": 2
}
